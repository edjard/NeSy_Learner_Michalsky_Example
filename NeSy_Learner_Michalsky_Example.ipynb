{
 "cells": [
  {
   "cell_type": "markdown",
   "metadata": {
    "colab_type": "text",
    "id": "eqiOYl7DC8Fo"
   },
   "source": [
    "# Neural Symbolic Learner# NeuralSymbolic - Demo"
   ]
  },
  {
   "cell_type": "markdown",
   "metadata": {
    "colab_type": "text",
    "id": "hmY6cIItVjvG"
   },
   "source": [
    "## Dependencies"
   ]
  },
  {
   "cell_type": "code",
   "execution_count": 1,
   "metadata": {
    "colab": {
     "base_uri": "https://localhost:8080/",
     "height": 168
    },
    "colab_type": "code",
    "id": "GYOlB1BY0KHc",
    "outputId": "d282410a-f368-4c8b-c887-bbf29c3b0df3"
   },
   "outputs": [
    {
     "name": "stdout",
     "output_type": "stream",
     "text": [
      "Requirement already satisfied: keras-rectified-adam in /Users/edjard/opt/miniconda3/lib/python3.9/site-packages (0.20.0)\n",
      "Requirement already satisfied: keras.utils in /Users/edjard/opt/miniconda3/lib/python3.9/site-packages (1.0.13)\n",
      "Requirement already satisfied: tqdm in /Users/edjard/opt/miniconda3/lib/python3.9/site-packages (4.63.0)\n",
      "Requirement already satisfied: numpy in /Users/edjard/opt/miniconda3/lib/python3.9/site-packages (1.21.6)\n",
      "Requirement already satisfied: pandas in /Users/edjard/opt/miniconda3/lib/python3.9/site-packages (1.4.3)\n",
      "Requirement already satisfied: sklearn in /Users/edjard/opt/miniconda3/lib/python3.9/site-packages (0.0.post4)\n",
      "Requirement already satisfied: tensorflow in /Users/edjard/opt/miniconda3/lib/python3.9/site-packages (2.11.0)\n",
      "Requirement already satisfied: matplotlib in /Users/edjard/opt/miniconda3/lib/python3.9/site-packages (3.5.3)\n",
      "Requirement already satisfied: Keras in /Users/edjard/opt/miniconda3/lib/python3.9/site-packages (from keras-rectified-adam) (2.11.0)\n",
      "Requirement already satisfied: python-dateutil>=2.8.1 in /Users/edjard/opt/miniconda3/lib/python3.9/site-packages (from pandas) (2.8.2)\n",
      "Requirement already satisfied: pytz>=2020.1 in /Users/edjard/opt/miniconda3/lib/python3.9/site-packages (from pandas) (2022.2.1)\n",
      "Requirement already satisfied: tensorboard<2.12,>=2.11 in /Users/edjard/opt/miniconda3/lib/python3.9/site-packages (from tensorflow) (2.11.2)\n",
      "Requirement already satisfied: absl-py>=1.0.0 in /Users/edjard/opt/miniconda3/lib/python3.9/site-packages (from tensorflow) (1.4.0)\n",
      "Requirement already satisfied: flatbuffers>=2.0 in /Users/edjard/opt/miniconda3/lib/python3.9/site-packages (from tensorflow) (23.1.21)\n",
      "Requirement already satisfied: astunparse>=1.6.0 in /Users/edjard/opt/miniconda3/lib/python3.9/site-packages (from tensorflow) (1.6.3)\n",
      "Requirement already satisfied: protobuf<3.20,>=3.9.2 in /Users/edjard/opt/miniconda3/lib/python3.9/site-packages (from tensorflow) (3.19.6)\n",
      "Requirement already satisfied: h5py>=2.9.0 in /Users/edjard/opt/miniconda3/lib/python3.9/site-packages (from tensorflow) (3.8.0)\n",
      "Requirement already satisfied: libclang>=13.0.0 in /Users/edjard/opt/miniconda3/lib/python3.9/site-packages (from tensorflow) (15.0.6.1)\n",
      "Requirement already satisfied: setuptools in /Users/edjard/opt/miniconda3/lib/python3.9/site-packages (from tensorflow) (52.0.0)\n",
      "Requirement already satisfied: tensorflow-io-gcs-filesystem>=0.23.1 in /Users/edjard/opt/miniconda3/lib/python3.9/site-packages (from tensorflow) (0.30.0)\n",
      "Requirement already satisfied: gast<=0.4.0,>=0.2.1 in /Users/edjard/opt/miniconda3/lib/python3.9/site-packages (from tensorflow) (0.4.0)\n",
      "Requirement already satisfied: google-pasta>=0.1.1 in /Users/edjard/opt/miniconda3/lib/python3.9/site-packages (from tensorflow) (0.2.0)\n",
      "Requirement already satisfied: wrapt>=1.11.0 in /Users/edjard/opt/miniconda3/lib/python3.9/site-packages (from tensorflow) (1.14.1)\n",
      "Requirement already satisfied: typing-extensions>=3.6.6 in /Users/edjard/opt/miniconda3/lib/python3.9/site-packages (from tensorflow) (4.3.0)\n",
      "Requirement already satisfied: packaging in /Users/edjard/opt/miniconda3/lib/python3.9/site-packages (from tensorflow) (21.3)\n",
      "Requirement already satisfied: opt-einsum>=2.3.2 in /Users/edjard/opt/miniconda3/lib/python3.9/site-packages (from tensorflow) (3.3.0)\n",
      "Requirement already satisfied: tensorflow-estimator<2.12,>=2.11.0 in /Users/edjard/opt/miniconda3/lib/python3.9/site-packages (from tensorflow) (2.11.0)\n",
      "Requirement already satisfied: six>=1.12.0 in /Users/edjard/opt/miniconda3/lib/python3.9/site-packages (from tensorflow) (1.16.0)\n",
      "Requirement already satisfied: grpcio<2.0,>=1.24.3 in /Users/edjard/opt/miniconda3/lib/python3.9/site-packages (from tensorflow) (1.51.1)\n",
      "Requirement already satisfied: termcolor>=1.1.0 in /Users/edjard/opt/miniconda3/lib/python3.9/site-packages (from tensorflow) (2.2.0)\n",
      "Requirement already satisfied: pillow>=6.2.0 in /Users/edjard/opt/miniconda3/lib/python3.9/site-packages (from matplotlib) (9.2.0)\n",
      "Requirement already satisfied: pyparsing>=2.2.1 in /Users/edjard/opt/miniconda3/lib/python3.9/site-packages (from matplotlib) (3.0.9)\n",
      "Requirement already satisfied: fonttools>=4.22.0 in /Users/edjard/opt/miniconda3/lib/python3.9/site-packages (from matplotlib) (4.37.1)\n",
      "Requirement already satisfied: cycler>=0.10 in /Users/edjard/opt/miniconda3/lib/python3.9/site-packages (from matplotlib) (0.11.0)\n",
      "Requirement already satisfied: kiwisolver>=1.0.1 in /Users/edjard/opt/miniconda3/lib/python3.9/site-packages (from matplotlib) (1.4.4)\n",
      "Requirement already satisfied: wheel<1.0,>=0.23.0 in /Users/edjard/opt/miniconda3/lib/python3.9/site-packages (from astunparse>=1.6.0->tensorflow) (0.37.1)\n",
      "Requirement already satisfied: tensorboard-data-server<0.7.0,>=0.6.0 in /Users/edjard/opt/miniconda3/lib/python3.9/site-packages (from tensorboard<2.12,>=2.11->tensorflow) (0.6.1)\n",
      "Requirement already satisfied: requests<3,>=2.21.0 in /Users/edjard/opt/miniconda3/lib/python3.9/site-packages (from tensorboard<2.12,>=2.11->tensorflow) (2.27.1)\n",
      "Requirement already satisfied: werkzeug>=1.0.1 in /Users/edjard/opt/miniconda3/lib/python3.9/site-packages (from tensorboard<2.12,>=2.11->tensorflow) (2.2.2)\n",
      "Requirement already satisfied: google-auth-oauthlib<0.5,>=0.4.1 in /Users/edjard/opt/miniconda3/lib/python3.9/site-packages (from tensorboard<2.12,>=2.11->tensorflow) (0.4.6)\n",
      "Requirement already satisfied: tensorboard-plugin-wit>=1.6.0 in /Users/edjard/opt/miniconda3/lib/python3.9/site-packages (from tensorboard<2.12,>=2.11->tensorflow) (1.8.1)\n",
      "Requirement already satisfied: markdown>=2.6.8 in /Users/edjard/opt/miniconda3/lib/python3.9/site-packages (from tensorboard<2.12,>=2.11->tensorflow) (3.4.1)\n",
      "Requirement already satisfied: google-auth<3,>=1.6.3 in /Users/edjard/opt/miniconda3/lib/python3.9/site-packages (from tensorboard<2.12,>=2.11->tensorflow) (2.16.0)\n",
      "Requirement already satisfied: cachetools<6.0,>=2.0.0 in /Users/edjard/opt/miniconda3/lib/python3.9/site-packages (from google-auth<3,>=1.6.3->tensorboard<2.12,>=2.11->tensorflow) (5.3.0)\n",
      "Requirement already satisfied: rsa<5,>=3.1.4 in /Users/edjard/opt/miniconda3/lib/python3.9/site-packages (from google-auth<3,>=1.6.3->tensorboard<2.12,>=2.11->tensorflow) (4.9)\n",
      "Requirement already satisfied: pyasn1-modules>=0.2.1 in /Users/edjard/opt/miniconda3/lib/python3.9/site-packages (from google-auth<3,>=1.6.3->tensorboard<2.12,>=2.11->tensorflow) (0.2.8)\n",
      "Requirement already satisfied: requests-oauthlib>=0.7.0 in /Users/edjard/opt/miniconda3/lib/python3.9/site-packages (from google-auth-oauthlib<0.5,>=0.4.1->tensorboard<2.12,>=2.11->tensorflow) (1.3.1)\n",
      "Requirement already satisfied: importlib-metadata>=4.4 in /Users/edjard/opt/miniconda3/lib/python3.9/site-packages (from markdown>=2.6.8->tensorboard<2.12,>=2.11->tensorflow) (4.12.0)\n",
      "Requirement already satisfied: zipp>=0.5 in /Users/edjard/opt/miniconda3/lib/python3.9/site-packages (from importlib-metadata>=4.4->markdown>=2.6.8->tensorboard<2.12,>=2.11->tensorflow) (3.8.1)\n",
      "Requirement already satisfied: pyasn1<0.5.0,>=0.4.6 in /Users/edjard/opt/miniconda3/lib/python3.9/site-packages (from pyasn1-modules>=0.2.1->google-auth<3,>=1.6.3->tensorboard<2.12,>=2.11->tensorflow) (0.4.8)\n",
      "Requirement already satisfied: certifi>=2017.4.17 in /Users/edjard/opt/miniconda3/lib/python3.9/site-packages (from requests<3,>=2.21.0->tensorboard<2.12,>=2.11->tensorflow) (2022.6.15)\n",
      "Requirement already satisfied: idna<4,>=2.5 in /Users/edjard/opt/miniconda3/lib/python3.9/site-packages (from requests<3,>=2.21.0->tensorboard<2.12,>=2.11->tensorflow) (3.3)\n",
      "Requirement already satisfied: charset-normalizer~=2.0.0 in /Users/edjard/opt/miniconda3/lib/python3.9/site-packages (from requests<3,>=2.21.0->tensorboard<2.12,>=2.11->tensorflow) (2.0.4)\n",
      "Requirement already satisfied: urllib3<1.27,>=1.21.1 in /Users/edjard/opt/miniconda3/lib/python3.9/site-packages (from requests<3,>=2.21.0->tensorboard<2.12,>=2.11->tensorflow) (1.26.8)\n",
      "Requirement already satisfied: oauthlib>=3.0.0 in /Users/edjard/opt/miniconda3/lib/python3.9/site-packages (from requests-oauthlib>=0.7.0->google-auth-oauthlib<0.5,>=0.4.1->tensorboard<2.12,>=2.11->tensorflow) (3.2.2)\n",
      "Requirement already satisfied: MarkupSafe>=2.1.1 in /Users/edjard/opt/miniconda3/lib/python3.9/site-packages (from werkzeug>=1.0.1->tensorboard<2.12,>=2.11->tensorflow) (2.1.1)\n"
     ]
    }
   ],
   "source": [
    "!pip install keras-rectified-adam keras.utils tqdm numpy pandas sklearn tensorflow matplotlib"
   ]
  },
  {
   "cell_type": "code",
   "execution_count": 3,
   "metadata": {
    "colab": {},
    "colab_type": "code",
    "id": "ny3mB825u0oM"
   },
   "outputs": [],
   "source": [
    "import tqdm\n",
    "import numpy as np\n",
    "import pandas as pd\n",
    "from sklearn.model_selection import LeaveOneOut\n",
    "import keras\n",
    "from tensorflow.keras.models import Sequential\n",
    "from keras.models import Sequential, Model\n",
    "from keras.layers import Dense, Input, concatenate\n",
    "from keras.losses import binary_crossentropy\n",
    "from keras.utils import plot_model\n",
    "from keras_radam import RAdam\n",
    "import matplotlib.pyplot as plt\n",
    "import warnings\n",
    "\n",
    "warnings.filterwarnings('ignore')\n"
   ]
  },
  {
   "cell_type": "code",
   "execution_count": 2,
   "metadata": {
    "colab": {},
    "colab_type": "code",
    "id": "oGV8J8Mj1uhj"
   },
   "outputs": [
    {
     "name": "stderr",
     "output_type": "stream",
     "text": [
      "2022-09-20 13:08:28.361826: I tensorflow/core/platform/cpu_feature_guard.cc:193] This TensorFlow binary is optimized with oneAPI Deep Neural Network Library (oneDNN) to use the following CPU instructions in performance-critical operations:  AVX2 AVX512F AVX512_VNNI FMA\n",
      "To enable them in other operations, rebuild TensorFlow with the appropriate compiler flags.\n",
      "2022-09-20 13:08:28.363466: W tensorflow/stream_executor/platform/default/dso_loader.cc:64] Could not load dynamic library 'libcuda.so.1'; dlerror: libcuda.so.1: cannot open shared object file: No such file or directory\n",
      "2022-09-20 13:08:28.363659: W tensorflow/stream_executor/cuda/cuda_driver.cc:263] failed call to cuInit: UNKNOWN ERROR (303)\n",
      "2022-09-20 13:08:28.363687: I tensorflow/stream_executor/cuda/cuda_diagnostics.cc:156] kernel driver does not appear to be running on this host (erlonbie-xps139310): /proc/driver/nvidia/version does not exist\n"
     ]
    }
   ],
   "source": [
    "from keras import backend as K\n",
    "import tensorflow as tf\n",
    "import numpy as np\n",
    "import random\n",
    "import os\n",
    "\n",
    "seed_value = 0\n",
    "\n",
    "# 1. Set `PYTHONHASHSEED` environment variable at a fixed value\n",
    "os.environ[\"PYTHONHASHSEED\"] = str(seed_value)\n",
    "\n",
    "# 2. Set `python` built-in pseudo-random generator at a fixed value\n",
    "random.seed(seed_value)\n",
    "\n",
    "# 3. Set `numpy` pseudo-random generator at a fixed value\n",
    "np.random.seed(seed_value)\n",
    "\n",
    "# 4. Set `tensorflow` pseudo-random generator at a fixed value\n",
    "tf.random.set_seed(seed_value)\n",
    "\n",
    "# 5. Configure a new global `tensorflow` session\n",
    "session_conf = tf.compat.v1.ConfigProto(\n",
    "    intra_op_parallelism_threads=1, inter_op_parallelism_threads=1\n",
    ")\n",
    "sess = tf.compat.v1.Session(graph=tf.compat.v1.get_default_graph(), config=session_conf)\n",
    "K.set_session(sess)\n"
   ]
  },
  {
   "cell_type": "markdown",
   "metadata": {
    "colab_type": "text",
    "id": "roshxLlK-K5g"
   },
   "source": [
    "## Import Data from CSV"
   ]
  },
  {
   "cell_type": "code",
   "execution_count": 4,
   "metadata": {
    "colab": {
     "base_uri": "https://localhost:8080/",
     "height": 363
    },
    "colab_type": "code",
    "id": "cckTOFsQ1X22",
    "outputId": "17520310-241e-4a19-9103-495be7fbc3a4"
   },
   "outputs": [
    {
     "data": {
      "text/html": [
       "<div>\n",
       "<style scoped>\n",
       "    .dataframe tbody tr th:only-of-type {\n",
       "        vertical-align: middle;\n",
       "    }\n",
       "\n",
       "    .dataframe tbody tr th {\n",
       "        vertical-align: top;\n",
       "    }\n",
       "\n",
       "    .dataframe thead th {\n",
       "        text-align: right;\n",
       "    }\n",
       "</style>\n",
       "<table border=\"1\" class=\"dataframe\">\n",
       "  <thead>\n",
       "    <tr style=\"text-align: right;\">\n",
       "      <th></th>\n",
       "      <th>Number_of_cars</th>\n",
       "      <th>Number_of_different_loads</th>\n",
       "      <th>num_wheels1</th>\n",
       "      <th>length1</th>\n",
       "      <th>shape1</th>\n",
       "      <th>num_loads1</th>\n",
       "      <th>load_shape1</th>\n",
       "      <th>num_wheels2</th>\n",
       "      <th>length2</th>\n",
       "      <th>shape2</th>\n",
       "      <th>...</th>\n",
       "      <th>Rectangle_next_to_triangle</th>\n",
       "      <th>Rectangle_next_to_hexagon</th>\n",
       "      <th>Rectangle_next_to_circle</th>\n",
       "      <th>Triangle_next_to_triangle</th>\n",
       "      <th>Triangle_next_to_hexagon</th>\n",
       "      <th>Triangle_next_to_circle</th>\n",
       "      <th>Hexagon_next_to_hexagon</th>\n",
       "      <th>Hexagon_next_to_circle</th>\n",
       "      <th>Circle_next_to_circle</th>\n",
       "      <th>Class_attribute</th>\n",
       "    </tr>\n",
       "  </thead>\n",
       "  <tbody>\n",
       "    <tr>\n",
       "      <th>0</th>\n",
       "      <td>5</td>\n",
       "      <td>4</td>\n",
       "      <td>2</td>\n",
       "      <td>1</td>\n",
       "      <td>6</td>\n",
       "      <td>3</td>\n",
       "      <td>2</td>\n",
       "      <td>2</td>\n",
       "      <td>0</td>\n",
       "      <td>8</td>\n",
       "      <td>...</td>\n",
       "      <td>1</td>\n",
       "      <td>0</td>\n",
       "      <td>0</td>\n",
       "      <td>0</td>\n",
       "      <td>1</td>\n",
       "      <td>0</td>\n",
       "      <td>0</td>\n",
       "      <td>1</td>\n",
       "      <td>0</td>\n",
       "      <td>1</td>\n",
       "    </tr>\n",
       "    <tr>\n",
       "      <th>1</th>\n",
       "      <td>4</td>\n",
       "      <td>3</td>\n",
       "      <td>2</td>\n",
       "      <td>0</td>\n",
       "      <td>9</td>\n",
       "      <td>1</td>\n",
       "      <td>3</td>\n",
       "      <td>2</td>\n",
       "      <td>0</td>\n",
       "      <td>7</td>\n",
       "      <td>...</td>\n",
       "      <td>1</td>\n",
       "      <td>0</td>\n",
       "      <td>1</td>\n",
       "      <td>0</td>\n",
       "      <td>0</td>\n",
       "      <td>0</td>\n",
       "      <td>0</td>\n",
       "      <td>0</td>\n",
       "      <td>0</td>\n",
       "      <td>1</td>\n",
       "    </tr>\n",
       "    <tr>\n",
       "      <th>2</th>\n",
       "      <td>4</td>\n",
       "      <td>2</td>\n",
       "      <td>2</td>\n",
       "      <td>0</td>\n",
       "      <td>6</td>\n",
       "      <td>1</td>\n",
       "      <td>0</td>\n",
       "      <td>2</td>\n",
       "      <td>0</td>\n",
       "      <td>4</td>\n",
       "      <td>...</td>\n",
       "      <td>0</td>\n",
       "      <td>0</td>\n",
       "      <td>0</td>\n",
       "      <td>1</td>\n",
       "      <td>0</td>\n",
       "      <td>1</td>\n",
       "      <td>0</td>\n",
       "      <td>0</td>\n",
       "      <td>0</td>\n",
       "      <td>1</td>\n",
       "    </tr>\n",
       "    <tr>\n",
       "      <th>3</th>\n",
       "      <td>5</td>\n",
       "      <td>2</td>\n",
       "      <td>2</td>\n",
       "      <td>0</td>\n",
       "      <td>7</td>\n",
       "      <td>1</td>\n",
       "      <td>3</td>\n",
       "      <td>2</td>\n",
       "      <td>0</td>\n",
       "      <td>1</td>\n",
       "      <td>...</td>\n",
       "      <td>1</td>\n",
       "      <td>0</td>\n",
       "      <td>0</td>\n",
       "      <td>1</td>\n",
       "      <td>0</td>\n",
       "      <td>0</td>\n",
       "      <td>0</td>\n",
       "      <td>0</td>\n",
       "      <td>0</td>\n",
       "      <td>1</td>\n",
       "    </tr>\n",
       "    <tr>\n",
       "      <th>4</th>\n",
       "      <td>4</td>\n",
       "      <td>3</td>\n",
       "      <td>2</td>\n",
       "      <td>0</td>\n",
       "      <td>1</td>\n",
       "      <td>1</td>\n",
       "      <td>3</td>\n",
       "      <td>3</td>\n",
       "      <td>1</td>\n",
       "      <td>0</td>\n",
       "      <td>...</td>\n",
       "      <td>1</td>\n",
       "      <td>0</td>\n",
       "      <td>1</td>\n",
       "      <td>0</td>\n",
       "      <td>0</td>\n",
       "      <td>0</td>\n",
       "      <td>0</td>\n",
       "      <td>0</td>\n",
       "      <td>0</td>\n",
       "      <td>1</td>\n",
       "    </tr>\n",
       "    <tr>\n",
       "      <th>5</th>\n",
       "      <td>3</td>\n",
       "      <td>2</td>\n",
       "      <td>2</td>\n",
       "      <td>1</td>\n",
       "      <td>0</td>\n",
       "      <td>3</td>\n",
       "      <td>0</td>\n",
       "      <td>2</td>\n",
       "      <td>0</td>\n",
       "      <td>6</td>\n",
       "      <td>...</td>\n",
       "      <td>0</td>\n",
       "      <td>0</td>\n",
       "      <td>0</td>\n",
       "      <td>0</td>\n",
       "      <td>0</td>\n",
       "      <td>1</td>\n",
       "      <td>0</td>\n",
       "      <td>0</td>\n",
       "      <td>0</td>\n",
       "      <td>0</td>\n",
       "    </tr>\n",
       "    <tr>\n",
       "      <th>6</th>\n",
       "      <td>4</td>\n",
       "      <td>2</td>\n",
       "      <td>2</td>\n",
       "      <td>0</td>\n",
       "      <td>1</td>\n",
       "      <td>1</td>\n",
       "      <td>0</td>\n",
       "      <td>2</td>\n",
       "      <td>0</td>\n",
       "      <td>9</td>\n",
       "      <td>...</td>\n",
       "      <td>0</td>\n",
       "      <td>0</td>\n",
       "      <td>0</td>\n",
       "      <td>0</td>\n",
       "      <td>0</td>\n",
       "      <td>1</td>\n",
       "      <td>0</td>\n",
       "      <td>0</td>\n",
       "      <td>0</td>\n",
       "      <td>0</td>\n",
       "    </tr>\n",
       "    <tr>\n",
       "      <th>7</th>\n",
       "      <td>3</td>\n",
       "      <td>2</td>\n",
       "      <td>3</td>\n",
       "      <td>1</td>\n",
       "      <td>0</td>\n",
       "      <td>1</td>\n",
       "      <td>2</td>\n",
       "      <td>2</td>\n",
       "      <td>0</td>\n",
       "      <td>9</td>\n",
       "      <td>...</td>\n",
       "      <td>0</td>\n",
       "      <td>0</td>\n",
       "      <td>1</td>\n",
       "      <td>0</td>\n",
       "      <td>0</td>\n",
       "      <td>0</td>\n",
       "      <td>0</td>\n",
       "      <td>0</td>\n",
       "      <td>0</td>\n",
       "      <td>0</td>\n",
       "    </tr>\n",
       "    <tr>\n",
       "      <th>8</th>\n",
       "      <td>5</td>\n",
       "      <td>2</td>\n",
       "      <td>2</td>\n",
       "      <td>0</td>\n",
       "      <td>7</td>\n",
       "      <td>1</td>\n",
       "      <td>0</td>\n",
       "      <td>2</td>\n",
       "      <td>1</td>\n",
       "      <td>5</td>\n",
       "      <td>...</td>\n",
       "      <td>0</td>\n",
       "      <td>0</td>\n",
       "      <td>1</td>\n",
       "      <td>0</td>\n",
       "      <td>0</td>\n",
       "      <td>0</td>\n",
       "      <td>0</td>\n",
       "      <td>0</td>\n",
       "      <td>0</td>\n",
       "      <td>0</td>\n",
       "    </tr>\n",
       "    <tr>\n",
       "      <th>9</th>\n",
       "      <td>3</td>\n",
       "      <td>1</td>\n",
       "      <td>2</td>\n",
       "      <td>0</td>\n",
       "      <td>9</td>\n",
       "      <td>1</td>\n",
       "      <td>2</td>\n",
       "      <td>2</td>\n",
       "      <td>1</td>\n",
       "      <td>6</td>\n",
       "      <td>...</td>\n",
       "      <td>0</td>\n",
       "      <td>0</td>\n",
       "      <td>0</td>\n",
       "      <td>0</td>\n",
       "      <td>0</td>\n",
       "      <td>0</td>\n",
       "      <td>0</td>\n",
       "      <td>0</td>\n",
       "      <td>0</td>\n",
       "      <td>0</td>\n",
       "    </tr>\n",
       "  </tbody>\n",
       "</table>\n",
       "<p>10 rows × 33 columns</p>\n",
       "</div>"
      ],
      "text/plain": [
       "   Number_of_cars  Number_of_different_loads  num_wheels1  length1  shape1  \\\n",
       "0               5                          4            2        1       6   \n",
       "1               4                          3            2        0       9   \n",
       "2               4                          2            2        0       6   \n",
       "3               5                          2            2        0       7   \n",
       "4               4                          3            2        0       1   \n",
       "5               3                          2            2        1       0   \n",
       "6               4                          2            2        0       1   \n",
       "7               3                          2            3        1       0   \n",
       "8               5                          2            2        0       7   \n",
       "9               3                          1            2        0       9   \n",
       "\n",
       "   num_loads1  load_shape1  num_wheels2  length2  shape2  ...  \\\n",
       "0           3            2            2        0       8  ...   \n",
       "1           1            3            2        0       7  ...   \n",
       "2           1            0            2        0       4  ...   \n",
       "3           1            3            2        0       1  ...   \n",
       "4           1            3            3        1       0  ...   \n",
       "5           3            0            2        0       6  ...   \n",
       "6           1            0            2        0       9  ...   \n",
       "7           1            2            2        0       9  ...   \n",
       "8           1            0            2        1       5  ...   \n",
       "9           1            2            2        1       6  ...   \n",
       "\n",
       "   Rectangle_next_to_triangle  Rectangle_next_to_hexagon  \\\n",
       "0                           1                          0   \n",
       "1                           1                          0   \n",
       "2                           0                          0   \n",
       "3                           1                          0   \n",
       "4                           1                          0   \n",
       "5                           0                          0   \n",
       "6                           0                          0   \n",
       "7                           0                          0   \n",
       "8                           0                          0   \n",
       "9                           0                          0   \n",
       "\n",
       "  Rectangle_next_to_circle  Triangle_next_to_triangle  \\\n",
       "0                        0                          0   \n",
       "1                        1                          0   \n",
       "2                        0                          1   \n",
       "3                        0                          1   \n",
       "4                        1                          0   \n",
       "5                        0                          0   \n",
       "6                        0                          0   \n",
       "7                        1                          0   \n",
       "8                        1                          0   \n",
       "9                        0                          0   \n",
       "\n",
       "   Triangle_next_to_hexagon Triangle_next_to_circle  Hexagon_next_to_hexagon  \\\n",
       "0                         1                       0                        0   \n",
       "1                         0                       0                        0   \n",
       "2                         0                       1                        0   \n",
       "3                         0                       0                        0   \n",
       "4                         0                       0                        0   \n",
       "5                         0                       1                        0   \n",
       "6                         0                       1                        0   \n",
       "7                         0                       0                        0   \n",
       "8                         0                       0                        0   \n",
       "9                         0                       0                        0   \n",
       "\n",
       "  Hexagon_next_to_circle  Circle_next_to_circle  Class_attribute  \n",
       "0                      1                      0                1  \n",
       "1                      0                      0                1  \n",
       "2                      0                      0                1  \n",
       "3                      0                      0                1  \n",
       "4                      0                      0                1  \n",
       "5                      0                      0                0  \n",
       "6                      0                      0                0  \n",
       "7                      0                      0                0  \n",
       "8                      0                      0                0  \n",
       "9                      0                      0                0  \n",
       "\n",
       "[10 rows x 33 columns]"
      ]
     },
     "execution_count": 4,
     "metadata": {},
     "output_type": "execute_result"
    }
   ],
   "source": [
    "# path to the data\n",
    "path = \"trains-data.csv\"\n",
    "str_att = {\n",
    "    \"length\": [\"short\", \"long\"],\n",
    "    \"shape\": [\n",
    "        \"closedrect\",\n",
    "        \"dblopnrect\",\n",
    "        \"ellipse\",\n",
    "        \"engine\",\n",
    "        \"hexagon\",\n",
    "        \"jaggedtop\",\n",
    "        \"openrect\",\n",
    "        \"opentrap\",\n",
    "        \"slopetop\",\n",
    "        \"ushaped\",\n",
    "    ],\n",
    "    \"load_shape\": [\"circlelod\", \"hexagonlod\", \"rectanglod\", \"trianglod\"],\n",
    "    \"Class_attribute\": [\"west\", \"east\"],\n",
    "}\n",
    "\n",
    "\n",
    "def read_data(path=path):\n",
    "    df = pd.read_csv(path, \",\")\n",
    "\n",
    "    for k in df:\n",
    "        for att in str_att:\n",
    "            if k.startswith(att):\n",
    "                for i, val in enumerate(df[k]):\n",
    "                    if val in str_att[att]:\n",
    "                        df[k][i] = str_att[att].index(val)\n",
    "\n",
    "    df.replace(\"\\\\0\", 0, inplace=True)\n",
    "    df.replace(\"None\", -1, inplace=True)\n",
    "\n",
    "    return df\n",
    "\n",
    "\n",
    "df = read_data()\n",
    "df\n"
   ]
  },
  {
   "cell_type": "markdown",
   "metadata": {
    "colab_type": "text",
    "id": "wwsqEU0csS6W"
   },
   "source": [
    "## Question 1.\n",
    "\n",
    "Implemente uma solução que implemente proposicionalização com 32 neurônios\n",
    "de entrada e uma única saída (denotando leste)."
   ]
  },
  {
   "cell_type": "code",
   "execution_count": 5,
   "metadata": {
    "colab": {},
    "colab_type": "code",
    "id": "yaDwHppC0UHM"
   },
   "outputs": [],
   "source": [
    "df = read_data()\n",
    "Y = np.array(df.pop('Class_attribute'))\n",
    "X = np.array(df)"
   ]
  },
  {
   "cell_type": "markdown",
   "metadata": {
    "colab_type": "text",
    "id": "bPpFYhh9BA9p"
   },
   "source": [
    "### Akin Propositionalization Model"
   ]
  },
  {
   "cell_type": "markdown",
   "metadata": {
    "colab_type": "text",
    "id": "PKLXNbidBODc"
   },
   "source": [
    "### Train"
   ]
  },
  {
   "cell_type": "markdown",
   "metadata": {
    "colab_type": "text",
    "id": "ooYmO1ghBXPk"
   },
   "source": [
    "### Results"
   ]
  },
  {
   "cell_type": "markdown",
   "metadata": {
    "colab_type": "text",
    "id": "BuAayJMpGkRN"
   },
   "source": [
    "## Question 2.\n",
    "\n",
    "Implemente uma solução com base no modelo de aprendizado relacional contendo meta-redes para conectar conceitos das premissas. Este modelos deve conter 11 redes, uma para cada um dos seguintes conceitos conforme definição das paginas 136 e 137:"
   ]
  },
  {
   "cell_type": "markdown",
   "metadata": {
    "colab_type": "text",
    "id": "Z0PBb8FV1NEu"
   },
   "source": [
    "### metanet"
   ]
  },
  {
   "cell_type": "code",
   "execution_count": 6,
   "metadata": {
    "colab": {
     "base_uri": "https://localhost:8080/",
     "height": 1000
    },
    "colab_type": "code",
    "id": "FCnTuECIFvuJ",
    "outputId": "917263b8-ea59-4eeb-9f8d-86854952bc27"
   },
   "outputs": [
    {
     "name": "stderr",
     "output_type": "stream",
     "text": [
      "2023-07-03 10:05:40.653008: I tensorflow/core/platform/cpu_feature_guard.cc:193] This TensorFlow binary is optimized with oneAPI Deep Neural Network Library (oneDNN) to use the following CPU instructions in performance-critical operations:  AVX2 FMA\n",
      "To enable them in other operations, rebuild TensorFlow with the appropriate compiler flags.\n"
     ]
    },
    {
     "name": "stdout",
     "output_type": "stream",
     "text": [
      "Model: \"model_12\"\n",
      "__________________________________________________________________________________________________\n",
      " Layer (type)                   Output Shape         Param #     Connected to                     \n",
      "==================================================================================================\n",
      " t (InputLayer)                 [(None, 1)]          0           []                               \n",
      "                                                                                                  \n",
      " nc (InputLayer)                [(None, 1)]          0           []                               \n",
      "                                                                                                  \n",
      " nl (InputLayer)                [(None, 1)]          0           []                               \n",
      "                                                                                                  \n",
      " c (InputLayer)                 [(None, 1)]          0           []                               \n",
      "                                                                                                  \n",
      " w (InputLayer)                 [(None, 1)]          0           []                               \n",
      "                                                                                                  \n",
      " l (InputLayer)                 [(None, 1)]          0           []                               \n",
      "                                                                                                  \n",
      " s (InputLayer)                 [(None, 1)]          0           []                               \n",
      "                                                                                                  \n",
      " ncl (InputLayer)               [(None, 1)]          0           []                               \n",
      "                                                                                                  \n",
      " ls (InputLayer)                [(None, 1)]          0           []                               \n",
      "                                                                                                  \n",
      " x_crc (InputLayer)             [(None, 1)]          0           []                               \n",
      "                                                                                                  \n",
      " x_hex (InputLayer)             [(None, 1)]          0           []                               \n",
      "                                                                                                  \n",
      " x_rec (InputLayer)             [(None, 1)]          0           []                               \n",
      "                                                                                                  \n",
      " x_tri (InputLayer)             [(None, 1)]          0           []                               \n",
      "                                                                                                  \n",
      " concatenate (Concatenate)      (None, 2)            0           ['t[0][0]',                      \n",
      "                                                                  'nc[0][0]']                     \n",
      "                                                                                                  \n",
      " concatenate_1 (Concatenate)    (None, 2)            0           ['t[0][0]',                      \n",
      "                                                                  'nl[0][0]']                     \n",
      "                                                                                                  \n",
      " concatenate_2 (Concatenate)    (None, 3)            0           ['t[0][0]',                      \n",
      "                                                                  'c[0][0]',                      \n",
      "                                                                  'w[0][0]']                      \n",
      "                                                                                                  \n",
      " concatenate_3 (Concatenate)    (None, 3)            0           ['t[0][0]',                      \n",
      "                                                                  'c[0][0]',                      \n",
      "                                                                  'l[0][0]']                      \n",
      "                                                                                                  \n",
      " concatenate_4 (Concatenate)    (None, 3)            0           ['t[0][0]',                      \n",
      "                                                                  'c[0][0]',                      \n",
      "                                                                  's[0][0]']                      \n",
      "                                                                                                  \n",
      " concatenate_5 (Concatenate)    (None, 3)            0           ['t[0][0]',                      \n",
      "                                                                  'c[0][0]',                      \n",
      "                                                                  'ncl[0][0]']                    \n",
      "                                                                                                  \n",
      " concatenate_6 (Concatenate)    (None, 3)            0           ['t[0][0]',                      \n",
      "                                                                  'c[0][0]',                      \n",
      "                                                                  'ls[0][0]']                     \n",
      "                                                                                                  \n",
      " concatenate_7 (Concatenate)    (None, 3)            0           ['t[0][0]',                      \n",
      "                                                                  'c[0][0]',                      \n",
      "                                                                  'x_crc[0][0]']                  \n",
      "                                                                                                  \n",
      " concatenate_8 (Concatenate)    (None, 3)            0           ['t[0][0]',                      \n",
      "                                                                  'c[0][0]',                      \n",
      "                                                                  'x_hex[0][0]']                  \n",
      "                                                                                                  \n",
      " concatenate_9 (Concatenate)    (None, 3)            0           ['t[0][0]',                      \n",
      "                                                                  'c[0][0]',                      \n",
      "                                                                  'x_rec[0][0]']                  \n",
      "                                                                                                  \n",
      " concatenate_10 (Concatenate)   (None, 3)            0           ['t[0][0]',                      \n",
      "                                                                  'c[0][0]',                      \n",
      "                                                                  'x_tri[0][0]']                  \n",
      "                                                                                                  \n",
      " dense (Dense)                  (None, 20)           60          ['concatenate[0][0]']            \n",
      "                                                                                                  \n",
      " dense_1 (Dense)                (None, 20)           60          ['concatenate_1[0][0]']          \n",
      "                                                                                                  \n",
      " dense_2 (Dense)                (None, 20)           80          ['concatenate_2[0][0]']          \n",
      "                                                                                                  \n",
      " dense_3 (Dense)                (None, 20)           80          ['concatenate_3[0][0]']          \n",
      "                                                                                                  \n",
      " dense_4 (Dense)                (None, 20)           80          ['concatenate_4[0][0]']          \n",
      "                                                                                                  \n",
      " dense_5 (Dense)                (None, 20)           80          ['concatenate_5[0][0]']          \n",
      "                                                                                                  \n"
     ]
    },
    {
     "name": "stdout",
     "output_type": "stream",
     "text": [
      " dense_6 (Dense)                (None, 20)           80          ['concatenate_6[0][0]']          \n",
      "                                                                                                  \n",
      " dense_7 (Dense)                (None, 20)           80          ['concatenate_7[0][0]']          \n",
      "                                                                                                  \n",
      " dense_8 (Dense)                (None, 20)           80          ['concatenate_8[0][0]']          \n",
      "                                                                                                  \n",
      " dense_9 (Dense)                (None, 20)           80          ['concatenate_9[0][0]']          \n",
      "                                                                                                  \n",
      " dense_10 (Dense)               (None, 20)           80          ['concatenate_10[0][0]']         \n",
      "                                                                                                  \n",
      " concatenate_11 (Concatenate)   (None, 220)          0           ['dense[0][0]',                  \n",
      "                                                                  'dense_1[0][0]',                \n",
      "                                                                  'dense_2[0][0]',                \n",
      "                                                                  'dense_3[0][0]',                \n",
      "                                                                  'dense_4[0][0]',                \n",
      "                                                                  'dense_5[0][0]',                \n",
      "                                                                  'dense_6[0][0]',                \n",
      "                                                                  'dense_7[0][0]',                \n",
      "                                                                  'dense_8[0][0]',                \n",
      "                                                                  'dense_9[0][0]',                \n",
      "                                                                  'dense_10[0][0]']               \n",
      "                                                                                                  \n",
      " dense_11 (Dense)               (None, 3)            663         ['concatenate_11[0][0]']         \n",
      "                                                                                                  \n",
      " num_cars (Dense)               (None, 1)            21          ['dense[0][0]']                  \n",
      "                                                                                                  \n",
      " num_loads (Dense)              (None, 1)            21          ['dense_1[0][0]']                \n",
      "                                                                                                  \n",
      " num_wheels (Dense)             (None, 1)            21          ['dense_2[0][0]']                \n",
      "                                                                                                  \n",
      " length (Dense)                 (None, 1)            21          ['dense_3[0][0]']                \n",
      "                                                                                                  \n",
      " shape (Dense)                  (None, 1)            21          ['dense_4[0][0]']                \n",
      "                                                                                                  \n",
      " num_car_loads (Dense)          (None, 1)            21          ['dense_5[0][0]']                \n",
      "                                                                                                  \n",
      " load_shape (Dense)             (None, 1)            21          ['dense_6[0][0]']                \n",
      "                                                                                                  \n",
      " next_crc (Dense)               (None, 1)            21          ['dense_7[0][0]']                \n",
      "                                                                                                  \n",
      " next_hex (Dense)               (None, 1)            21          ['dense_8[0][0]']                \n",
      "                                                                                                  \n",
      " next_rec (Dense)               (None, 1)            21          ['dense_9[0][0]']                \n",
      "                                                                                                  \n",
      " next_tri (Dense)               (None, 1)            21          ['dense_10[0][0]']               \n",
      "                                                                                                  \n",
      " east (Dense)                   (None, 1)            4           ['dense_11[0][0]']               \n",
      "                                                                                                  \n",
      "==================================================================================================\n",
      "Total params: 1,738\n",
      "Trainable params: 1,738\n",
      "Non-trainable params: 0\n",
      "__________________________________________________________________________________________________\n"
     ]
    }
   ],
   "source": [
    "def model_2():\n",
    "    # features\n",
    "    t = Input(shape=(1,), name=\"t\")\n",
    "    c = Input(shape=(1,), name=\"c\")\n",
    "    w = Input(shape=(1,), name=\"w\")\n",
    "    l = Input(shape=(1,), name=\"l\")\n",
    "    s = Input(shape=(1,), name=\"s\")\n",
    "    nc = Input(shape=(1,), name=\"nc\")\n",
    "    ls = Input(shape=(1,), name=\"ls\")\n",
    "    nl = Input(shape=(1,), name=\"nl\")\n",
    "    ncl = Input(shape=(1,), name=\"ncl\")\n",
    "    x_crc = Input(shape=(1,), name=\"x_crc\")\n",
    "    x_hex = Input(shape=(1,), name=\"x_hex\")\n",
    "    x_rec = Input(shape=(1,), name=\"x_rec\")\n",
    "    x_tri = Input(shape=(1,), name=\"x_tri\")\n",
    "\n",
    "    # num_cars(t,nc)\n",
    "    num_cars_ = concatenate([t, nc])\n",
    "    num_cars_ = Dense(20, activation=\"relu\")(num_cars_)\n",
    "    num_cars = Dense(1, activation=\"sigmoid\", name=\"num_cars\")(num_cars_)\n",
    "    num_cars = Model(inputs=[t, nc], outputs=num_cars)\n",
    "\n",
    "    # num_loads(t,nl)\n",
    "    num_loads_ = concatenate([t, nl])\n",
    "    num_loads_ = Dense(20, activation=\"relu\")(num_loads_)\n",
    "    num_loads = Dense(1, activation=\"sigmoid\", name=\"num_loads\")(num_loads_)\n",
    "    num_loads = Model(inputs=[t, nl], outputs=num_loads)\n",
    "\n",
    "    # num_wheels(t,c,w)\n",
    "    num_wheels_ = concatenate([t, c, w])\n",
    "    num_wheels_ = Dense(20, activation=\"relu\")(num_wheels_)\n",
    "    num_wheels = Dense(1, activation=\"sigmoid\", name=\"num_wheels\")(num_wheels_)\n",
    "    num_wheels = Model(inputs=[t, c, w], outputs=num_wheels)\n",
    "\n",
    "    # length(t,c,l)\n",
    "    length_ = concatenate([t, c, l])\n",
    "    length_ = Dense(20, activation=\"relu\")(length_)\n",
    "    length = Dense(1, activation=\"sigmoid\", name=\"length\")(length_)\n",
    "    length = Model(inputs=[t, c, l], outputs=length)\n",
    "\n",
    "    # shape(t,c,s)\n",
    "    shape_ = concatenate([t, c, s])\n",
    "    shape_ = Dense(20, activation=\"relu\")(shape_)\n",
    "    shape = Dense(1, activation=\"sigmoid\", name=\"shape\")(shape_)\n",
    "    shape = Model(inputs=[t, c, s], outputs=shape)\n",
    "\n",
    "    # num_car_loads(t,c,ncl)\n",
    "    num_car_loads_ = concatenate([t, c, ncl])\n",
    "    num_car_loads_ = Dense(20, activation=\"relu\")(num_car_loads_)\n",
    "    num_car_loads = Dense(1, activation=\"sigmoid\", name=\"num_car_loads\")(num_car_loads_)\n",
    "    num_car_loads = Model(inputs=[t, c, ncl], outputs=num_car_loads)\n",
    "\n",
    "    # load_shape(t,c,ls)\n",
    "    load_shape_ = concatenate([t, c, ls])\n",
    "    load_shape_ = Dense(20, activation=\"relu\")(load_shape_)\n",
    "    load_shape = Dense(1, activation=\"sigmoid\", name=\"load_shape\")(load_shape_)\n",
    "    load_shape = Model(inputs=[t, c, ls], outputs=load_shape)\n",
    "\n",
    "    # next_crc(t,c,x)\n",
    "    next_crc_ = concatenate([t, c, x_crc])\n",
    "    next_crc_ = Dense(20, activation=\"relu\")(next_crc_)\n",
    "    next_crc = Dense(1, activation=\"sigmoid\", name=\"next_crc\")(next_crc_)\n",
    "    next_crc = Model(inputs=[t, c, x_crc], outputs=next_crc)\n",
    "\n",
    "    # next_hex_(t,c,x)\n",
    "    next_hex_ = concatenate([t, c, x_hex])\n",
    "    next_hex_ = Dense(20, activation=\"relu\")(next_hex_)\n",
    "    next_hex = Dense(1, activation=\"sigmoid\", name=\"next_hex\")(next_hex_)\n",
    "    next_hex = Model(inputs=[t, c, x_hex], outputs=next_hex)\n",
    "\n",
    "    # next_rec(t,c,x)\n",
    "    next_rec_ = concatenate([t, c, x_rec])\n",
    "    next_rec_ = Dense(20, activation=\"relu\")(next_rec_)\n",
    "    next_rec = Dense(1, activation=\"sigmoid\", name=\"next_rec\")(next_rec_)\n",
    "    next_rec = Model(inputs=[t, c, x_rec], outputs=next_rec)\n",
    "\n",
    "    # next_tri(t,c,x)\n",
    "    next_tri_ = concatenate([t, c, x_tri])\n",
    "    next_tri_ = Dense(20, activation=\"relu\")(next_tri_)\n",
    "    next_tri = Dense(1, activation=\"sigmoid\", name=\"next_tri\")(next_tri_)\n",
    "    next_tri = Model(inputs=[t, c, x_tri], outputs=next_tri)\n",
    "\n",
    "    # east\n",
    "    east = concatenate(\n",
    "        [\n",
    "            num_cars_,\n",
    "            num_loads_,\n",
    "            num_wheels_,\n",
    "            length_,\n",
    "            shape_,\n",
    "            num_car_loads_,\n",
    "            load_shape_,\n",
    "            next_crc_,\n",
    "            next_hex_,\n",
    "            next_rec_,\n",
    "            next_tri_,\n",
    "        ]\n",
    "    )\n",
    "    east = Dense(3, activation=\"relu\")(east)\n",
    "    east = Dense(1, activation=\"sigmoid\", name=\"east\")(east)\n",
    "    east = Model(\n",
    "        inputs=[t, c, w, l, s, nc, ls, nl, ncl, x_crc, x_hex, x_rec, x_tri],\n",
    "        outputs=east,\n",
    "    )\n",
    "\n",
    "    # metanet\n",
    "    metanet = Model(\n",
    "        inputs=east.inputs,\n",
    "        outputs=[\n",
    "            num_cars.output,\n",
    "            num_loads.output,\n",
    "            num_wheels.output,\n",
    "            length.output,\n",
    "            shape.output,\n",
    "            num_car_loads.output,\n",
    "            load_shape.output,\n",
    "            next_crc.output,\n",
    "            next_hex.output,\n",
    "            next_rec.output,\n",
    "            next_tri.output,\n",
    "            east.output,\n",
    "        ],\n",
    "    )\n",
    "\n",
    "    # rules\n",
    "    rules = {\n",
    "        \"num_cars\": num_cars,\n",
    "        \"num_loads\": num_loads,\n",
    "        \"num_wheels\": num_wheels,\n",
    "        \"length\": length,\n",
    "        \"shape\": shape,\n",
    "        \"num_car_loads\": num_car_loads,\n",
    "        \"load_shape\": load_shape,\n",
    "        \"next_crc\": next_crc,\n",
    "        \"next_hex\": next_hex,\n",
    "        \"next_rec\": next_rec,\n",
    "        \"next_tri\": next_tri,\n",
    "    }\n",
    "\n",
    "    return metanet, east, rules\n",
    "\n",
    "\n",
    "metanet, east, rules = model_2()\n",
    "metanet.summary()\n"
   ]
  },
  {
   "cell_type": "code",
   "execution_count": 103,
   "metadata": {
    "colab": {
     "base_uri": "https://localhost:8080/",
     "height": 584
    },
    "colab_type": "code",
    "id": "9P3AzfUx_wRZ",
    "outputId": "53e73c80-d531-48e7-8304-4df1f75c8933"
   },
   "outputs": [
    {
     "data": {
      "image/png": "[encoded data removed]",
      "text/plain": [
       "<IPython.core.display.Image object>"
      ]
     },
     "execution_count": 103,
     "metadata": {},
     "output_type": "execute_result"
    }
   ],
   "source": [
    "plot_model(metanet, show_shapes=False, show_layer_names=True)"
   ]
  },
  {
   "cell_type": "markdown",
   "metadata": {
    "colab_type": "text",
    "id": "RRtn9f_N1_8s"
   },
   "source": [
    "### Data Augmentation"
   ]
  },
  {
   "cell_type": "code",
   "execution_count": 7,
   "metadata": {
    "colab": {
     "base_uri": "https://localhost:8080/",
     "height": 381
    },
    "colab_type": "code",
    "id": "ttUckQrg1oHA",
    "outputId": "159fe3df-4c5a-4716-b30e-9208b18353cd"
   },
   "outputs": [
    {
     "data": {
      "text/plain": [
       "Number_of_cars                 5\n",
       "Number_of_different_loads      4\n",
       "num_wheels                     2\n",
       "length                         1\n",
       "shape                          6\n",
       "num_loads                      3\n",
       "load_shape                     2\n",
       "Rectangle_next_to_rectangle    0\n",
       "Rectangle_next_to_triangle     1\n",
       "Rectangle_next_to_hexagon      0\n",
       "Rectangle_next_to_circle       0\n",
       "Triangle_next_to_triangle      0\n",
       "Triangle_next_to_hexagon       1\n",
       "Triangle_next_to_circle        0\n",
       "Hexagon_next_to_hexagon        0\n",
       "Hexagon_next_to_circle         1\n",
       "Circle_next_to_circle          0\n",
       "Class_attribute                1\n",
       "car                            1\n",
       "train                          0\n",
       "Name: 0, dtype: object"
      ]
     },
     "execution_count": 7,
     "metadata": {},
     "output_type": "execute_result"
    }
   ],
   "source": [
    "df = read_data()\n",
    "cols = [\n",
    "    [\n",
    "        c\n",
    "        for c in df.columns\n",
    "        if not (str.isdigit(c[-1])) or (str.isdigit(c[-1]) and int(c[-1]) == n)\n",
    "    ]\n",
    "    for n in range(1, 5)\n",
    "]\n",
    "\n",
    "data = [df[col] for col in cols]\n",
    "for c, df in enumerate(data):\n",
    "    df.columns = [\n",
    "        name if not str.isdigit(name[-1]) else name[:-1] for name in df.columns\n",
    "    ]\n",
    "    df[\"car\"] = c + 1\n",
    "\n",
    "data = pd.concat(data)\n",
    "data.reset_index(level=0, inplace=True)\n",
    "data[\"train\"] = data.pop(\"index\")\n",
    "data.T[0]\n"
   ]
  },
  {
   "cell_type": "markdown",
   "metadata": {
    "colab_type": "text",
    "id": "sw7ws74MnHZc"
   },
   "source": [
    "### Train"
   ]
  },
  {
   "cell_type": "code",
   "execution_count": 8,
   "metadata": {
    "colab": {},
    "colab_type": "code",
    "id": "kSDtoAXF4ziw"
   },
   "outputs": [],
   "source": [
    "def sort_inputs(X):\n",
    "    t = X[\"train\"].T\n",
    "    c = X[\"car\"].T\n",
    "    w = X[\"num_wheels\"].T\n",
    "    l = X[\"length\"].T\n",
    "    s = X[\"shape\"].T\n",
    "    nc = X[\"Number_of_cars\"].T\n",
    "    ls = X[\"load_shape\"].T\n",
    "    nl = X[\"Number_of_different_loads\"].T\n",
    "    ncl = X[\"num_loads\"].T\n",
    "    x_crc = np.sum(X[[col for col in X if col.endswith(\"circle\")]], axis=1).T\n",
    "    x_hex = np.sum(X[[col for col in X if col.endswith(\"hexagon\")]], axis=1).T\n",
    "    x_rec = np.sum(X[[col for col in X if col.endswith(\"rectangle\")]], axis=1).T\n",
    "    x_tri = np.sum(X[[col for col in X if col.endswith(\"triangle\")]], axis=1).T\n",
    "\n",
    "    return [t, c, w, l, s, nc, ls, nl, ncl, x_crc, x_hex, x_rec, x_tri]\n",
    "\n",
    "\n",
    "def split(data, val_train):\n",
    "    x_train = data.query(f\"train != {val_train}\")\n",
    "    x_test = data.query(f\"train == {val_train}\")\n",
    "    y_train = np.array(x_train.pop(\"Class_attribute\"))\n",
    "    y_test = np.array(x_test.pop(\"Class_attribute\"))\n",
    "    x_train = sort_inputs(x_train)\n",
    "    x_test = sort_inputs(x_test)\n",
    "\n",
    "    return x_train, x_test, y_train, y_test\n"
   ]
  },
  {
   "cell_type": "code",
   "execution_count": 116,
   "metadata": {
    "colab": {
     "base_uri": "https://localhost:8080/",
     "height": 34
    },
    "colab_type": "code",
    "id": "puqmQMPs1fZE",
    "outputId": "94465cf3-e823-48fd-9fac-62a2ed21ff2f"
   },
   "outputs": [
    {
     "name": "stderr",
     "output_type": "stream",
     "text": [
      "  0%|                                                                            | 0/10 [00:00<?, ?it/s]"
     ]
    },
    {
     "name": "stdout",
     "output_type": "stream",
     "text": [
      "1/1 [==============================] - 0s 122ms/step\n"
     ]
    },
    {
     "name": "stderr",
     "output_type": "stream",
     "text": [
      " 10%|██████▊                                                             | 1/10 [00:31<04:44, 31.58s/it]"
     ]
    },
    {
     "name": "stdout",
     "output_type": "stream",
     "text": [
      "1/1 [==============================] - 0s 150ms/step\n"
     ]
    },
    {
     "name": "stderr",
     "output_type": "stream",
     "text": [
      " 20%|█████████████▌                                                      | 2/10 [01:22<05:42, 42.77s/it]"
     ]
    },
    {
     "name": "stdout",
     "output_type": "stream",
     "text": [
      "1/1 [==============================] - 0s 158ms/step\n"
     ]
    },
    {
     "name": "stderr",
     "output_type": "stream",
     "text": [
      " 30%|████████████████████▍                                               | 3/10 [02:14<05:30, 47.27s/it]"
     ]
    },
    {
     "name": "stdout",
     "output_type": "stream",
     "text": [
      "1/1 [==============================] - 0s 151ms/step\n"
     ]
    },
    {
     "name": "stderr",
     "output_type": "stream",
     "text": [
      " 40%|███████████████████████████▏                                        | 4/10 [03:02<04:44, 47.36s/it]"
     ]
    },
    {
     "name": "stdout",
     "output_type": "stream",
     "text": [
      "1/1 [==============================] - 0s 179ms/step\n"
     ]
    },
    {
     "name": "stderr",
     "output_type": "stream",
     "text": [
      " 50%|██████████████████████████████████                                  | 5/10 [03:58<04:12, 50.50s/it]"
     ]
    },
    {
     "name": "stdout",
     "output_type": "stream",
     "text": [
      "1/1 [==============================] - 0s 253ms/step\n"
     ]
    },
    {
     "name": "stderr",
     "output_type": "stream",
     "text": [
      " 60%|████████████████████████████████████████▊                           | 6/10 [04:53<03:28, 52.21s/it]"
     ]
    },
    {
     "name": "stdout",
     "output_type": "stream",
     "text": [
      "1/1 [==============================] - 0s 229ms/step\n"
     ]
    },
    {
     "name": "stderr",
     "output_type": "stream",
     "text": [
      " 70%|███████████████████████████████████████████████▌                    | 7/10 [05:44<02:35, 51.78s/it]"
     ]
    },
    {
     "name": "stdout",
     "output_type": "stream",
     "text": [
      "1/1 [==============================] - 0s 110ms/step\n"
     ]
    },
    {
     "name": "stderr",
     "output_type": "stream",
     "text": [
      " 80%|██████████████████████████████████████████████████████▍             | 8/10 [06:30<01:39, 49.73s/it]"
     ]
    },
    {
     "name": "stdout",
     "output_type": "stream",
     "text": [
      "1/1 [==============================] - 0s 116ms/step\n"
     ]
    },
    {
     "name": "stderr",
     "output_type": "stream",
     "text": [
      " 90%|█████████████████████████████████████████████████████████████▏      | 9/10 [07:03<00:44, 44.60s/it]"
     ]
    },
    {
     "name": "stdout",
     "output_type": "stream",
     "text": [
      "1/1 [==============================] - 0s 151ms/step\n"
     ]
    },
    {
     "name": "stderr",
     "output_type": "stream",
     "text": [
      "100%|███████████████████████████████████████████████████████████████████| 10/10 [07:48<00:00, 46.89s/it]\n"
     ]
    }
   ],
   "source": [
    "hists = dict()\n",
    "question_2_names = [\n",
    "    \"Train\",\n",
    "    \"Output of flat network\",\n",
    "    \"Desired output\",\n",
    "    \"Class\",\n",
    "]\n",
    "question_2 = {name: [] for name in question_2_names}\n",
    "\n",
    "for validation_i in tqdm.tqdm(range(0, 10)):\n",
    "    x_train, x_test, y_train, y_test = split(data, validation_i)\n",
    "    metanet, east, rules = model_2()\n",
    "\n",
    "    x_train = [np.asarray(x).astype(np.int) for x in x_train]\n",
    "    y_train = np.asarray(y_train).astype(np.int)\n",
    "    x_test = [np.asarray(x).astype(np.int) for x in x_test]\n",
    "    y_test = np.asarray(y_test).astype(np.int)\n",
    "\n",
    "    east.compile(\n",
    "        loss=binary_crossentropy, optimizer=RAdam(), metrics=[\"mse\", \"binary_accuracy\"]\n",
    "    )\n",
    "    hist = east.fit(\n",
    "        x_train,\n",
    "        y_train,\n",
    "        validation_data=[x_test, y_test],\n",
    "        epochs=1000,\n",
    "        verbose=0,\n",
    "    )\n",
    "    hists[validation_i] = hist\n",
    "\n",
    "    question_2[\"Train\"].append(validation_i)\n",
    "    question_2[\"Output of flat network\"].append(east.predict(x_test)[0][0])\n",
    "    question_2[\"Desired output\"].append(y_test[0])\n",
    "    question_2[\"Class\"].append(str_att[\"Class_attribute\"][int(y_test[0])])\n"
   ]
  },
  {
   "cell_type": "markdown",
   "metadata": {
    "colab_type": "text",
    "id": "UXmqXT_VnDyN"
   },
   "source": [
    "### Results"
   ]
  },
  {
   "cell_type": "code",
   "execution_count": 9,
   "metadata": {
    "colab": {
     "base_uri": "https://localhost:8080/",
     "height": 294
    },
    "colab_type": "code",
    "id": "YGWehNEenB5s",
    "outputId": "98417b72-ff74-4a42-b000-1303b1c47b0e"
   },
   "outputs": [
    {
     "ename": "NameError",
     "evalue": "name 'hists' is not defined",
     "output_type": "error",
     "traceback": [
      "\u001b[0;31m---------------------------------------------------------------------------\u001b[0m",
      "\u001b[0;31mNameError\u001b[0m                                 Traceback (most recent call last)",
      "Input \u001b[0;32mIn [9]\u001b[0m, in \u001b[0;36m<cell line: 1>\u001b[0;34m()\u001b[0m\n\u001b[0;32m----> 1\u001b[0m \u001b[38;5;28;01mfor\u001b[39;00m i, history \u001b[38;5;129;01min\u001b[39;00m \u001b[38;5;28menumerate\u001b[39m(\u001b[43mhists\u001b[49m\u001b[38;5;241m.\u001b[39mvalues()):\n\u001b[1;32m      2\u001b[0m     plt\u001b[38;5;241m.\u001b[39mplot(history\u001b[38;5;241m.\u001b[39mhistory[\u001b[38;5;124m'\u001b[39m\u001b[38;5;124mmse\u001b[39m\u001b[38;5;124m'\u001b[39m], c\u001b[38;5;241m=\u001b[39m\u001b[38;5;124m'\u001b[39m\u001b[38;5;124mtab:blue\u001b[39m\u001b[38;5;124m'\u001b[39m)\n\u001b[1;32m      3\u001b[0m     plt\u001b[38;5;241m.\u001b[39mplot(history\u001b[38;5;241m.\u001b[39mhistory[\u001b[38;5;124m'\u001b[39m\u001b[38;5;124mval_mse\u001b[39m\u001b[38;5;124m'\u001b[39m], c\u001b[38;5;241m=\u001b[39m\u001b[38;5;124m'\u001b[39m\u001b[38;5;124mtab:orange\u001b[39m\u001b[38;5;124m'\u001b[39m)\n",
      "\u001b[0;31mNameError\u001b[0m: name 'hists' is not defined"
     ]
    }
   ],
   "source": [
    "for i, history in enumerate(hists.values()):\n",
    "    plt.plot(history.history['mse'], c='tab:blue')\n",
    "    plt.plot(history.history['val_mse'], c='tab:orange')\n",
    "\n",
    "plt.title('model mean_squared_error')\n",
    "plt.ylabel('MSE')\n",
    "plt.xlabel('epoch')\n",
    "plt.legend(['train', 'val'], loc='upper left')\n",
    "plt.show()\n"
   ]
  },
  {
   "cell_type": "code",
   "execution_count": 118,
   "metadata": {
    "colab": {
     "base_uri": "https://localhost:8080/",
     "height": 294
    },
    "colab_type": "code",
    "id": "WDEeJ3ec4F51",
    "outputId": "6452f7e5-b8da-465b-f6ff-474b73f9256c"
   },
   "outputs": [
    {
     "data": {
      "image/png": "[encoded data removed]",
      "text/plain": [
       "<Figure size 640x480 with 1 Axes>"
      ]
     },
     "metadata": {},
     "output_type": "display_data"
    }
   ],
   "source": [
    "for i, history in enumerate(hists.values()):\n",
    "    plt.plot(history.history['binary_accuracy'], c='tab:blue')\n",
    "    plt.plot(history.history['val_binary_accuracy'], c='tab:orange')\n",
    "\n",
    "plt.title('model binary_accuracy')\n",
    "plt.ylabel('MSE')\n",
    "plt.xlabel('epoch')\n",
    "plt.legend(['train', 'val'], loc='upper left')\n",
    "plt.show()\n"
   ]
  },
  {
   "cell_type": "code",
   "execution_count": 119,
   "metadata": {
    "colab": {
     "base_uri": "https://localhost:8080/",
     "height": 356
    },
    "colab_type": "code",
    "id": "KoX5BURlAktl",
    "outputId": "87b5e62d-efed-4d7d-ddad-5dc7c8a4988f"
   },
   "outputs": [
    {
     "data": {
      "text/html": [
       "<div>\n",
       "<style scoped>\n",
       "    .dataframe tbody tr th:only-of-type {\n",
       "        vertical-align: middle;\n",
       "    }\n",
       "\n",
       "    .dataframe tbody tr th {\n",
       "        vertical-align: top;\n",
       "    }\n",
       "\n",
       "    .dataframe thead th {\n",
       "        text-align: right;\n",
       "    }\n",
       "</style>\n",
       "<table border=\"1\" class=\"dataframe\">\n",
       "  <thead>\n",
       "    <tr style=\"text-align: right;\">\n",
       "      <th></th>\n",
       "      <th>Train</th>\n",
       "      <th>Cars Accuracy</th>\n",
       "      <th>Output of flat network</th>\n",
       "      <th>Desired output</th>\n",
       "      <th>Class</th>\n",
       "    </tr>\n",
       "  </thead>\n",
       "  <tbody>\n",
       "    <tr>\n",
       "      <th>0</th>\n",
       "      <td>0</td>\n",
       "      <td>1.0</td>\n",
       "      <td>1.00</td>\n",
       "      <td>1</td>\n",
       "      <td>east</td>\n",
       "    </tr>\n",
       "    <tr>\n",
       "      <th>1</th>\n",
       "      <td>1</td>\n",
       "      <td>1.0</td>\n",
       "      <td>0.73</td>\n",
       "      <td>1</td>\n",
       "      <td>east</td>\n",
       "    </tr>\n",
       "    <tr>\n",
       "      <th>2</th>\n",
       "      <td>2</td>\n",
       "      <td>1.0</td>\n",
       "      <td>0.97</td>\n",
       "      <td>1</td>\n",
       "      <td>east</td>\n",
       "    </tr>\n",
       "    <tr>\n",
       "      <th>3</th>\n",
       "      <td>3</td>\n",
       "      <td>1.0</td>\n",
       "      <td>1.00</td>\n",
       "      <td>1</td>\n",
       "      <td>east</td>\n",
       "    </tr>\n",
       "    <tr>\n",
       "      <th>4</th>\n",
       "      <td>4</td>\n",
       "      <td>1.0</td>\n",
       "      <td>0.62</td>\n",
       "      <td>1</td>\n",
       "      <td>east</td>\n",
       "    </tr>\n",
       "    <tr>\n",
       "      <th>5</th>\n",
       "      <td>5</td>\n",
       "      <td>1.0</td>\n",
       "      <td>0.02</td>\n",
       "      <td>0</td>\n",
       "      <td>west</td>\n",
       "    </tr>\n",
       "    <tr>\n",
       "      <th>6</th>\n",
       "      <td>6</td>\n",
       "      <td>1.0</td>\n",
       "      <td>0.00</td>\n",
       "      <td>0</td>\n",
       "      <td>west</td>\n",
       "    </tr>\n",
       "    <tr>\n",
       "      <th>7</th>\n",
       "      <td>7</td>\n",
       "      <td>1.0</td>\n",
       "      <td>0.27</td>\n",
       "      <td>0</td>\n",
       "      <td>west</td>\n",
       "    </tr>\n",
       "    <tr>\n",
       "      <th>8</th>\n",
       "      <td>8</td>\n",
       "      <td>1.0</td>\n",
       "      <td>0.27</td>\n",
       "      <td>0</td>\n",
       "      <td>west</td>\n",
       "    </tr>\n",
       "    <tr>\n",
       "      <th>9</th>\n",
       "      <td>9</td>\n",
       "      <td>1.0</td>\n",
       "      <td>0.00</td>\n",
       "      <td>0</td>\n",
       "      <td>west</td>\n",
       "    </tr>\n",
       "  </tbody>\n",
       "</table>\n",
       "</div>"
      ],
      "text/plain": [
       "   Train  Cars Accuracy  Output of flat network  Desired output Class\n",
       "0      0            1.0                    1.00               1  east\n",
       "1      1            1.0                    0.73               1  east\n",
       "2      2            1.0                    0.97               1  east\n",
       "3      3            1.0                    1.00               1  east\n",
       "4      4            1.0                    0.62               1  east\n",
       "5      5            1.0                    0.02               0  west\n",
       "6      6            1.0                    0.00               0  west\n",
       "7      7            1.0                    0.27               0  west\n",
       "8      8            1.0                    0.27               0  west\n",
       "9      9            1.0                    0.00               0  west"
      ]
     },
     "execution_count": 119,
     "metadata": {},
     "output_type": "execute_result"
    }
   ],
   "source": [
    "t2 = pd.DataFrame.from_dict(question_2).round(2)\n",
    "t2[\"Cars Accuracy\"] = [hists[i].history[\"binary_accuracy\"][-1] for i in range(0, 10)]\n",
    "t2 = t2.reindex(\n",
    "    columns=[\n",
    "        \"Train\",\n",
    "        \"Cars Accuracy\",\n",
    "        \"Output of flat network\",\n",
    "        \"Desired output\",\n",
    "        \"Class\",\n",
    "    ]\n",
    ")\n",
    "t2\n"
   ]
  }
 ],
 "metadata": {
  "accelerator": "TPU",
  "colab": {
   "collapsed_sections": [
    "roshxLlK-K5g",
    "Z0PBb8FV1NEu",
    "RRtn9f_N1_8s",
    "sw7ws74MnHZc",
    "UXmqXT_VnDyN"
   ],
   "include_colab_link": true,
   "name": "NeuralSymbolic-Demo.ipynb",
   "provenance": []
  },
  "kernelspec": {
   "display_name": "Python 3 (ipykernel)",
   "language": "python",
   "name": "python3"
  },
  "language_info": {
   "codemirror_mode": {
    "name": "ipython",
    "version": 3
   },
   "file_extension": ".py",
   "mimetype": "text/x-python",
   "name": "python",
   "nbconvert_exporter": "python",
   "pygments_lexer": "ipython3",
   "version": "3.9.12"
  }
 },
 "nbformat": 4,
 "nbformat_minor": 1
}
